{
 "cells": [
  {
   "cell_type": "markdown",
   "id": "ec89b206",
   "metadata": {},
   "source": [
    "# Assignment 11"
   ]
  },
  {
   "cell_type": "markdown",
   "id": "9a318a19",
   "metadata": {},
   "source": [
    "In this assignment, ***LOOPS ARE NOT ALLOWED***</font> unless specified in the question."
   ]
  },
  {
   "cell_type": "markdown",
   "id": "4ec4e5f2",
   "metadata": {},
   "source": [
    "## Part 1: Numpy Arrays (50 pts)"
   ]
  },
  {
   "cell_type": "code",
   "execution_count": 5,
   "id": "4a23acbf",
   "metadata": {},
   "outputs": [],
   "source": [
    "import numpy as np"
   ]
  },
  {
   "cell_type": "markdown",
   "id": "ed50e92b",
   "metadata": {},
   "source": [
    "#### 1. Using the appropriate functions for lists, make a list `L` of all integers from 0 - 19 (inclusive). （5 pts)"
   ]
  },
  {
   "cell_type": "code",
   "execution_count": 62,
   "id": "85218f0d",
   "metadata": {},
   "outputs": [
    {
     "data": {
      "text/plain": [
       "[0, 1, 2, 3, 4, 5, 6, 7, 8, 9, 10, 11, 12, 13, 14, 15, 16, 17, 18, 19]"
      ]
     },
     "execution_count": 62,
     "metadata": {},
     "output_type": "execute_result"
    }
   ],
   "source": [
    "L = list(range(20))\n",
    "L"
   ]
  },
  {
   "cell_type": "markdown",
   "id": "295e06f0",
   "metadata": {},
   "source": [
    "#### 2. Use a numpy function to convert `L` into a numpy array. (5 pts)"
   ]
  },
  {
   "cell_type": "code",
   "execution_count": 63,
   "id": "697eeb03",
   "metadata": {},
   "outputs": [
    {
     "data": {
      "text/plain": [
       "array([ 0,  1,  2,  3,  4,  5,  6,  7,  8,  9, 10, 11, 12, 13, 14, 15, 16,\n",
       "       17, 18, 19])"
      ]
     },
     "execution_count": 63,
     "metadata": {},
     "output_type": "execute_result"
    }
   ],
   "source": [
    "L = np.array(L)\n",
    "L"
   ]
  },
  {
   "cell_type": "markdown",
   "id": "1e2bc820",
   "metadata": {},
   "source": [
    "#### 3. Using numpy functions, compute the mean and standard deviation of `L`. (10 pts)"
   ]
  },
  {
   "cell_type": "code",
   "execution_count": 64,
   "id": "f460067d",
   "metadata": {},
   "outputs": [
    {
     "name": "stdout",
     "output_type": "stream",
     "text": [
      "9.5\n",
      "5.766281297335398\n"
     ]
    }
   ],
   "source": [
    "print(np.mean(L))\n",
    "print(np.std(L))"
   ]
  },
  {
   "cell_type": "markdown",
   "id": "b35cb36d",
   "metadata": {},
   "source": [
    "#### 4. Using a numpy function, change `L` into a 5 by 4 matrix (5 row, 4 columns). Replace the last column by a vector of 0. (10pts)"
   ]
  },
  {
   "cell_type": "code",
   "execution_count": 65,
   "id": "9db78008",
   "metadata": {},
   "outputs": [
    {
     "name": "stdout",
     "output_type": "stream",
     "text": [
      "[[ 0  1  2  3]\n",
      " [ 4  5  6  7]\n",
      " [ 8  9 10 11]\n",
      " [12 13 14 15]\n",
      " [16 17 18 19]]\n",
      "[[ 0  1  2  0]\n",
      " [ 4  5  6  0]\n",
      " [ 8  9 10  0]\n",
      " [12 13 14  0]\n",
      " [16 17 18  0]]\n"
     ]
    }
   ],
   "source": [
    "L = L.reshape(5,4)\n",
    "print(L)\n",
    "L[:,-1] = 0\n",
    "print(L)"
   ]
  },
  {
   "cell_type": "markdown",
   "id": "93c6e144",
   "metadata": {},
   "source": [
    "#### 5. Using a numpy function (not a loop) compute the mean of the elements in each column of `L`. Also use a numpy function to compute the standard deviation of the elements in each row. (10 pts)\n",
    "#### Hint: Google or Take a look at numpy documentation."
   ]
  },
  {
   "cell_type": "code",
   "execution_count": 66,
   "id": "5f377ab5",
   "metadata": {},
   "outputs": [
    {
     "name": "stdout",
     "output_type": "stream",
     "text": [
      "[ 8.  9. 10.  0.]\n",
      "[0.8291562  2.27760839 3.96074488 5.67340286 7.39509973]\n"
     ]
    }
   ],
   "source": [
    "print(np.mean(L, axis=0))\n",
    "print(np.std(L, axis=1))"
   ]
  },
  {
   "cell_type": "markdown",
   "id": "83a7eef7",
   "metadata": {},
   "source": [
    "#### 6. Let's use numpy's random number generator. Seed it below with the number \"2\". (Note -- for the sake of reproducability, it's always a good idea to seed a random number generator.) After generating the seed, using a numpy function, create two arrays each of 10 random integers between 1 and 3 (inclusive). Name these arrays `M` and `N`. (10 pts)"
   ]
  },
  {
   "cell_type": "code",
   "execution_count": 28,
   "id": "fd81d388",
   "metadata": {},
   "outputs": [
    {
     "name": "stdout",
     "output_type": "stream",
     "text": [
      "[1 2 1 3 3 1 3 2 2 3]\n",
      "[1 1 1 2 3 1 3 3 3 2]\n"
     ]
    }
   ],
   "source": [
    "np.random.seed(2)\n",
    "M = np.random.randint(1,4, size = 10)\n",
    "N = np.random.randint(1,4, size = 10)\n",
    "print(M)\n",
    "print(N)"
   ]
  },
  {
   "cell_type": "markdown",
   "id": "1e078650",
   "metadata": {},
   "source": [
    "## Part 2: Matrix Multiplication (30 pts)\n",
    "A common programming problem involves writing a function to perform a matrix multiplication. Please review the procedure for multiplying two matrices if you have forgotten. In this section you'll perform matrix multiplications using the following matrices:"
   ]
  },
  {
   "cell_type": "code",
   "execution_count": 8,
   "id": "3ba93dd9",
   "metadata": {},
   "outputs": [
    {
     "name": "stdout",
     "output_type": "stream",
     "text": [
      "[[3 5 3]\n",
      " [2 4 3]\n",
      " [4 2 2]]\n",
      "[[1 2 2]\n",
      " [1 1 2]\n",
      " [4 5 1]]\n",
      "[[1 5 2 4]\n",
      " [3 5 3 5]\n",
      " [1 1 2 4]]\n"
     ]
    }
   ],
   "source": [
    "M=np.array([[3,5,3],[2,4,3],[4,2,2]])\n",
    "N=np.array([[1,2,2],[1,1,2],[4,5,1]])\n",
    "L=np.array([[1,5,2,4],[3,5,3,5],[1,1,2,4]])\n",
    "print(M)\n",
    "print(N)\n",
    "print(L)"
   ]
  },
  {
   "cell_type": "markdown",
   "id": "c7f81876",
   "metadata": {},
   "source": [
    "**1. Write a function called `matrix_multiply` that takes in two matrices and returns their matrix product. Test that the function works for `M` x `N` and `N` x `L`. For `L` x `M`, raise an appropriate error message to indicate the issue. For this part, do not use any built-in numpy functions designed for matrix multiplication. (20pts)** <br>\n",
    "**(Note: don't worry if your function changes the integers to floats. You can fix this if you like!)** <br> \n",
    "<b>Example:</b> <br>\n",
    "    Input: [[3,5,3],[2,4,3],[4,2,2]], [[1,2,2],[1,1,2],[4,5,1]] <br>\n",
    "    Output: [[20 26 19][18 23 15][14 20 14]]"
   ]
  },
  {
   "cell_type": "code",
   "execution_count": 9,
   "id": "b67a430e",
   "metadata": {},
   "outputs": [],
   "source": [
    "def matrix_multiply(l1, l2):\n",
    "    if(len(l1[0]) != len(l2)):\n",
    "        print(\"Wrong dimension!\")\n",
    "        return\n",
    "    result=[]\n",
    "    for i in range(len(l1)):\n",
    "        row = []\n",
    "        for j in range(len(l2[0])):\n",
    "            temp = 0\n",
    "            for k in range(len(l1[0])):\n",
    "                temp += l1[i][k]*l2[k][j]\n",
    "            row.append(temp)\n",
    "        result.append(row)\n",
    "    return np.array(result)\n"
   ]
  },
  {
   "cell_type": "code",
   "execution_count": 10,
   "id": "591dbe53",
   "metadata": {},
   "outputs": [
    {
     "name": "stdout",
     "output_type": "stream",
     "text": [
      "[[ 9 17 12 22]\n",
      " [ 6 12  9 17]\n",
      " [20 46 25 45]]\n"
     ]
    }
   ],
   "source": [
    "## tests here\n",
    "# print(matrix_multiply(M,N))\n",
    "print(matrix_multiply(N,L))\n",
    "# print(matrix_multiply(L,N))"
   ]
  },
  {
   "cell_type": "markdown",
   "id": "85eb41fc",
   "metadata": {},
   "source": [
    "#### 2. What function(s) already exist in numpy for performing matrix multiplication? Using one or more of these functions, check that your function is performing correctly. What type of error is raised when you try to multiply `L` by `N`? Describe the error briefly.  (10 pts)"
   ]
  },
  {
   "cell_type": "code",
   "execution_count": 60,
   "id": "93ab525e",
   "metadata": {
    "scrolled": true
   },
   "outputs": [
    {
     "name": "stdout",
     "output_type": "stream",
     "text": [
      "[[20 26 19]\n",
      " [18 23 15]\n",
      " [14 20 14]]\n",
      "[[ 9 17 12 22]\n",
      " [ 6 12  9 17]\n",
      " [20 46 25 45]]\n"
     ]
    },
    {
     "ename": "ValueError",
     "evalue": "matmul: Input operand 1 has a mismatch in its core dimension 0, with gufunc signature (n?,k),(k,m?)->(n?,m?) (size 3 is different from 4)",
     "output_type": "error",
     "traceback": [
      "\u001b[0;31m---------------------------------------------------------------------------\u001b[0m",
      "\u001b[0;31mValueError\u001b[0m                                Traceback (most recent call last)",
      "\u001b[0;32m<ipython-input-60-bf8c8ba0ce8a>\u001b[0m in \u001b[0;36m<module>\u001b[0;34m\u001b[0m\n\u001b[1;32m      1\u001b[0m \u001b[0mprint\u001b[0m\u001b[0;34m(\u001b[0m\u001b[0mnp\u001b[0m\u001b[0;34m.\u001b[0m\u001b[0mmatmul\u001b[0m\u001b[0;34m(\u001b[0m\u001b[0mM\u001b[0m\u001b[0;34m,\u001b[0m\u001b[0mN\u001b[0m\u001b[0;34m)\u001b[0m\u001b[0;34m)\u001b[0m\u001b[0;34m\u001b[0m\u001b[0;34m\u001b[0m\u001b[0m\n\u001b[1;32m      2\u001b[0m \u001b[0mprint\u001b[0m\u001b[0;34m(\u001b[0m\u001b[0mnp\u001b[0m\u001b[0;34m.\u001b[0m\u001b[0mmatmul\u001b[0m\u001b[0;34m(\u001b[0m\u001b[0mN\u001b[0m\u001b[0;34m,\u001b[0m\u001b[0mL\u001b[0m\u001b[0;34m)\u001b[0m\u001b[0;34m)\u001b[0m\u001b[0;34m\u001b[0m\u001b[0;34m\u001b[0m\u001b[0m\n\u001b[0;32m----> 3\u001b[0;31m \u001b[0mprint\u001b[0m\u001b[0;34m(\u001b[0m\u001b[0mnp\u001b[0m\u001b[0;34m.\u001b[0m\u001b[0mmatmul\u001b[0m\u001b[0;34m(\u001b[0m\u001b[0mL\u001b[0m\u001b[0;34m,\u001b[0m\u001b[0mN\u001b[0m\u001b[0;34m)\u001b[0m\u001b[0;34m)\u001b[0m\u001b[0;34m\u001b[0m\u001b[0;34m\u001b[0m\u001b[0m\n\u001b[0m",
      "\u001b[0;31mValueError\u001b[0m: matmul: Input operand 1 has a mismatch in its core dimension 0, with gufunc signature (n?,k),(k,m?)->(n?,m?) (size 3 is different from 4)"
     ]
    }
   ],
   "source": [
    "print(np.matmul(M,N))\n",
    "print(np.matmul(N,L))\n",
    "print(np.matmul(L,N))"
   ]
  },
  {
   "cell_type": "markdown",
   "id": "a15649dc",
   "metadata": {},
   "source": [
    "ValueError is raised when multiplying L by N. \n",
    "ValueError: matmul: Input operand 1 has a mismatch in its core dimension 0, with gufunc signature (n?,k),(k,m?)->(n?,m?) (size 3 is different from 4)"
   ]
  },
  {
   "cell_type": "markdown",
   "id": "e87f0239",
   "metadata": {},
   "source": [
    "## Part 3: Itertools (20 pts)"
   ]
  },
  {
   "cell_type": "code",
   "execution_count": 12,
   "id": "4ba8b7b2",
   "metadata": {},
   "outputs": [],
   "source": [
    "import itertools"
   ]
  },
  {
   "cell_type": "markdown",
   "id": "cc74a658",
   "metadata": {},
   "source": [
    "Before you dive into this section, you are encouraged to go through a <a href=\"https://www.youtube.com/watch?v=0owC1x2o4U8\">video tutorial</a> and the <a href=\"https://docs.python.org/3/library/itertools.html\">documentation</a> of `itertools`.  "
   ]
  },
  {
   "cell_type": "markdown",
   "id": "b09de760",
   "metadata": {},
   "source": [
    "**1. Assume you have some dollar bills in your wallet. You have three 20 dollar bills, five 10 dollar bills, six 5 dollar bills, and five 1 dollar bills. Use a list to save all the paper money you have:**"
   ]
  },
  {
   "cell_type": "code",
   "execution_count": 13,
   "id": "c262f8bb",
   "metadata": {},
   "outputs": [],
   "source": [
    "wallet = [1, 1, 1, 1, 1, 5, 5, 5, 5, 5, 5, 10, 10, 10, 10, 10, 20, 20, 20]"
   ]
  },
  {
   "cell_type": "markdown",
   "id": "e0594a1a",
   "metadata": {},
   "source": [
    "**(a) Suppose you are picking five bills from your wallet. Use `itertools.combination` methods to list all the combinations of possible bill combinations and get the number of combinations. Print the result.** "
   ]
  },
  {
   "cell_type": "code",
   "execution_count": 13,
   "id": "d7205b84",
   "metadata": {},
   "outputs": [
    {
     "name": "stdout",
     "output_type": "stream",
     "text": [
      "11628\n"
     ]
    }
   ],
   "source": [
    "five_bills = list(itertools.combinations(wallet, 5))\n",
    "number_of_five_bills = len(five_bills)\n",
    "print(number_of_five_bills)"
   ]
  },
  {
   "cell_type": "markdown",
   "id": "1b76d524",
   "metadata": {},
   "source": [
    "**(b) Suppose you are going to purchase a 100-dollar merchant. How many ways can you make change for a $100 dollar bill? Use itertools methods to find the result. You may use loops for this question.**"
   ]
  },
  {
   "cell_type": "code",
   "execution_count": 14,
   "id": "e8f7eef9",
   "metadata": {},
   "outputs": [
    {
     "data": {
      "text/plain": [
       "15"
      ]
     },
     "execution_count": 14,
     "metadata": {},
     "output_type": "execute_result"
    }
   ],
   "source": [
    "makes_100 = []\n",
    "for n in range(1, len(wallet) + 1):\n",
    "    for combination in itertools.combinations(wallet, n):\n",
    "        if sum(combination) == 100:\n",
    "            makes_100.append(combination)\n",
    "len(set(makes_100))"
   ]
  },
  {
   "cell_type": "markdown",
   "id": "a1221f23",
   "metadata": {},
   "source": [
    "## Bonus (20 pts)"
   ]
  },
  {
   "cell_type": "markdown",
   "id": "e70ae263",
   "metadata": {},
   "source": [
    "**1. Use a numpy function, create a evenly spaced number list over the range[-5, 5]. The list should contain 10 numbers.** <br>\n",
    "Output: [-5.        , -3.88888889, -2.77777778, -1.66666667, -0.55555556, 0.55555556,  1.66666667,  2.77777778,  3.88888889,  5.        ]"
   ]
  },
  {
   "cell_type": "code",
   "execution_count": 18,
   "id": "8768352d",
   "metadata": {},
   "outputs": [
    {
     "data": {
      "text/plain": [
       "array([-5.        , -3.88888889, -2.77777778, -1.66666667, -0.55555556,\n",
       "        0.55555556,  1.66666667,  2.77777778,  3.88888889,  5.        ])"
      ]
     },
     "execution_count": 18,
     "metadata": {},
     "output_type": "execute_result"
    }
   ],
   "source": [
    "np.linspace(-5, 5, 10)"
   ]
  },
  {
   "cell_type": "markdown",
   "id": "1adb73fa",
   "metadata": {},
   "source": [
    "**2. Use a numpy function to create a list full of 1s with length 5.** "
   ]
  },
  {
   "cell_type": "code",
   "execution_count": 43,
   "id": "4e5a7f6b",
   "metadata": {},
   "outputs": [
    {
     "data": {
      "text/plain": [
       "array([1., 1., 1., 1., 1.])"
      ]
     },
     "execution_count": 43,
     "metadata": {},
     "output_type": "execute_result"
    }
   ],
   "source": [
    "np.ones(5)"
   ]
  },
  {
   "cell_type": "markdown",
   "id": "ad6f420d",
   "metadata": {},
   "source": [
    "**3. Use a numpy function to create two 3*2 matricies (named M and N) with randomly generated numbers. Doesn't have to be integers.** "
   ]
  },
  {
   "cell_type": "code",
   "execution_count": 38,
   "id": "86b9baee",
   "metadata": {},
   "outputs": [
    {
     "name": "stdout",
     "output_type": "stream",
     "text": [
      "[[-0.36082379  1.27054674]\n",
      " [ 1.03801753 -0.50229398]\n",
      " [-1.32653756 -0.54093754]] \n",
      " [[ 1.60263193 -0.74443921]\n",
      " [-1.44302209 -0.39592288]\n",
      " [-0.02134122 -0.84588406]]\n"
     ]
    }
   ],
   "source": [
    "M = np.random.randn(3, 2)\n",
    "N = np.random.randn(3, 2)\n",
    "print(M, \"\\n\", N)"
   ]
  },
  {
   "cell_type": "markdown",
   "id": "ad9a80fc",
   "metadata": {},
   "source": [
    "**4. Use a numpy function, add N to the right of M to form a 3*4 matrix named K.** "
   ]
  },
  {
   "cell_type": "code",
   "execution_count": 41,
   "id": "18c4c006",
   "metadata": {},
   "outputs": [],
   "source": [
    "K= np.hstack((M, N))"
   ]
  },
  {
   "cell_type": "markdown",
   "id": "0fa5ca6b",
   "metadata": {},
   "source": [
    "**5. Use a numpy function, fill the matrix K with zeros. Suppose you do not know the dimension of K.** "
   ]
  },
  {
   "cell_type": "code",
   "execution_count": 42,
   "id": "4c5c64b5",
   "metadata": {},
   "outputs": [
    {
     "data": {
      "text/plain": [
       "array([[0., 0., 0., 0.],\n",
       "       [0., 0., 0., 0.],\n",
       "       [0., 0., 0., 0.]])"
      ]
     },
     "execution_count": 42,
     "metadata": {},
     "output_type": "execute_result"
    }
   ],
   "source": [
    "np.zeros_like(K)"
   ]
  },
  {
   "cell_type": "code",
   "execution_count": null,
   "id": "3e077318",
   "metadata": {},
   "outputs": [],
   "source": []
  }
 ],
 "metadata": {
  "kernelspec": {
   "display_name": "Python 3",
   "language": "python",
   "name": "python3"
  },
  "language_info": {
   "codemirror_mode": {
    "name": "ipython",
    "version": 3
   },
   "file_extension": ".py",
   "mimetype": "text/x-python",
   "name": "python",
   "nbconvert_exporter": "python",
   "pygments_lexer": "ipython3",
   "version": "3.8.8"
  }
 },
 "nbformat": 4,
 "nbformat_minor": 5
}

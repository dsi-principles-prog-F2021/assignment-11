{
 "cells": [
  {
   "cell_type": "markdown",
   "id": "45179b2e",
   "metadata": {},
   "source": [
    "# Assignment 11"
   ]
  },
  {
   "cell_type": "markdown",
   "id": "050be7cf",
   "metadata": {},
   "source": [
    "In this assignment, ***LOOPS ARE NOT ALLOWED***</font> unless specified in the question."
   ]
  },
  {
   "cell_type": "markdown",
   "id": "e69f3f05",
   "metadata": {},
   "source": [
    "## Part 1: Numpy Arrays (50 pts)"
   ]
  },
  {
   "cell_type": "code",
   "execution_count": null,
   "id": "1a066cab",
   "metadata": {},
   "outputs": [],
   "source": [
    "import numpy as np"
   ]
  },
  {
   "cell_type": "markdown",
   "id": "bdb7be1c",
   "metadata": {},
   "source": [
    "#### 1. Using the appropriate functions for lists, make a list `L` of all integers from 0 - 19 (inclusive). （5 pts)"
   ]
  },
  {
   "cell_type": "code",
   "execution_count": null,
   "id": "46ca36fa",
   "metadata": {},
   "outputs": [],
   "source": [
    "L = #Edit here\n",
    "print(L)"
   ]
  },
  {
   "cell_type": "markdown",
   "id": "9d77651f",
   "metadata": {},
   "source": [
    "#### 2. Use a numpy function to convert `L` into a numpy array. (5 pts)"
   ]
  },
  {
   "cell_type": "code",
   "execution_count": null,
   "id": "331fde33",
   "metadata": {},
   "outputs": [],
   "source": [
    "L = #Edit here\n",
    "print(L)"
   ]
  },
  {
   "cell_type": "markdown",
   "id": "255e00f5",
   "metadata": {},
   "source": [
    "#### 3. Using numpy functions, compute the mean and standard deviation of `L`. (10 pts)"
   ]
  },
  {
   "cell_type": "code",
   "execution_count": null,
   "id": "9168954a",
   "metadata": {},
   "outputs": [],
   "source": [
    "L_mean = #Edit here\n",
    "L_std = #Edit here\n",
    "print(L_mean)\n",
    "print(L_std)"
   ]
  },
  {
   "cell_type": "markdown",
   "id": "a9bdc47c",
   "metadata": {},
   "source": [
    "#### 4. Using a numpy function, change `L` into a 5 by 4 matrix (5 row, 4 columns). Replace the last column by a vector of 0. (10pts)"
   ]
  },
  {
   "cell_type": "code",
   "execution_count": null,
   "id": "c2f513fe",
   "metadata": {},
   "outputs": [],
   "source": [
    "#Edit here\n",
    "print(L)"
   ]
  },
  {
   "cell_type": "markdown",
   "id": "9abd0255",
   "metadata": {},
   "source": [
    "#### 5. Using a numpy function (not a loop) compute the mean of the elements in each column of `L`. Also use a numpy function to compute the standard deviation of the elements in each row. (10 pts)\n",
    "#### Hint: Google or Take a look at numpy documentation."
   ]
  },
  {
   "cell_type": "code",
   "execution_count": null,
   "id": "e79a47e4",
   "metadata": {},
   "outputs": [],
   "source": [
    "L_col_mean = #Edit here\n",
    "L_row_std = #Edit here\n",
    "print(L_col_mean)\n",
    "print(L_row_std)"
   ]
  },
  {
   "cell_type": "markdown",
   "id": "0b355e43",
   "metadata": {},
   "source": [
    "#### 6. Let's use numpy's random number generator. Seed it below with the number \"2\". (Note -- for the sake of reproducability, it's always a good idea to seed a random number generator.) After generating the seed, using a numpy function, create two arrays each of 10 random integers between 1 and 3 (inclusive). Name these arrays `A` and `B`. (10 pts)"
   ]
  },
  {
   "cell_type": "code",
   "execution_count": null,
   "id": "af71f6c2",
   "metadata": {},
   "outputs": [],
   "source": [
    "# set seed here\n",
    "A = #Edit here\n",
    "B = #Edit here\n",
    "print(A)\n",
    "print(B)"
   ]
  },
  {
   "cell_type": "markdown",
   "id": "64ec5c7f",
   "metadata": {},
   "source": [
    "## Part 2: Matrix Multiplication (30 pts)\n",
    "A common programming problem involves writing a function to perform a matrix multiplication. Please review the procedure for multiplying two matrices if you have forgotten. In this section you'll perform matrix multiplications using the following matrices:"
   ]
  },
  {
   "cell_type": "code",
   "execution_count": null,
   "id": "57d42e28",
   "metadata": {},
   "outputs": [],
   "source": [
    "M=np.array([[3,5,3],[2,4,3],[4,2,2]])\n",
    "N=np.array([[1,2,2],[1,1,2],[4,5,1]])\n",
    "L=np.array([[1,5,2,4],[3,5,3,5],[1,1,2,4]])\n",
    "print(M)\n",
    "print(N)\n",
    "print(L)"
   ]
  },
  {
   "cell_type": "markdown",
   "id": "eb13f675",
   "metadata": {},
   "source": [
    "**1. Write a function called `matrix_multiply` that takes in two matrices and returns their matrix product. Test that the function works for `M` x `N` and `N` x `L`. For `L` x `M`, raise an appropriate error message to indicate the issue. For this part, do not use any built-in numpy functions designed for matrix multiplication. (20pts)** <br>\n",
    "**(Note: don't worry if your function changes the integers to floats. You can fix this if you like!)** <br> \n",
    "<b>Example:</b> <br>\n",
    "    Input: [[3,5,3],[2,4,3],[4,2,2]], [[1,2,2],[1,1,2],[4,5,1]] <br>\n",
    "    Output: [[20 26 19][18 23 15][14 20 14]]"
   ]
  },
  {
   "cell_type": "code",
   "execution_count": null,
   "id": "44a11cca",
   "metadata": {},
   "outputs": [],
   "source": [
    "def matrix_multiply(m1, m2):\n",
    "    #Edit here"
   ]
  },
  {
   "cell_type": "code",
   "execution_count": null,
   "id": "aaa6434d",
   "metadata": {},
   "outputs": [],
   "source": [
    "## tests here"
   ]
  },
  {
   "cell_type": "markdown",
   "id": "a00147ed",
   "metadata": {},
   "source": [
    "#### 2. What function(s) already exist in numpy for performing matrix multiplication? Using one or more of these functions, check that your function is performing correctly. What type of error is raised when you try to multiply `L` by `N`? Describe the error briefly.  (10 pts)"
   ]
  },
  {
   "cell_type": "code",
   "execution_count": null,
   "id": "8a27123b",
   "metadata": {
    "scrolled": true
   },
   "outputs": [],
   "source": []
  },
  {
   "cell_type": "markdown",
   "id": "d8b46838",
   "metadata": {},
   "source": []
  },
  {
   "cell_type": "markdown",
   "id": "c52c5472",
   "metadata": {},
   "source": [
    "## Part 3: Itertools (20 pts)"
   ]
  },
  {
   "cell_type": "code",
   "execution_count": null,
   "id": "f3f78280",
   "metadata": {},
   "outputs": [],
   "source": [
    "import itertools"
   ]
  },
  {
   "cell_type": "markdown",
   "id": "6478191c",
   "metadata": {},
   "source": [
    "Before you dive into this section, you are encouraged to go through a <a href=\"https://www.youtube.com/watch?v=0owC1x2o4U8\">video tutorial</a> and the <a href=\"https://docs.python.org/3/library/itertools.html\">documentation</a> of `itertools`.  "
   ]
  },
  {
   "cell_type": "markdown",
   "id": "78ee0045",
   "metadata": {},
   "source": [
    "**1. Assume you have some dollar bills in your wallet. You have three 20 dollar bills, five 10 dollar bills, six 5 dollar bills, and five 1 dollar bills. Use a list to save all the paper money you have:**"
   ]
  },
  {
   "cell_type": "code",
   "execution_count": null,
   "id": "74c788a8",
   "metadata": {},
   "outputs": [],
   "source": [
    "wallet = [1, 1, 1, 1, 1, 5, 5, 5, 5, 5, 5, 10, 10, 10, 10, 10, 20, 20, 20]"
   ]
  },
  {
   "cell_type": "markdown",
   "id": "5e989202",
   "metadata": {},
   "source": [
    "**(a) Suppose you are picking five bills from your wallet. Use `itertools.combination` methods to list all the combinations of possible bill combinations and get the number of combinations. Print the result. (5 pts)** "
   ]
  },
  {
   "cell_type": "code",
   "execution_count": null,
   "id": "745d90f8",
   "metadata": {},
   "outputs": [],
   "source": []
  },
  {
   "cell_type": "markdown",
   "id": "8833fedd",
   "metadata": {},
   "source": [
    "**(b) Suppose you are going to purchase a 100-dollar merchant. How many ways can you make change for a $100 dollar bill? Use itertools methods to find the result. You may use loops for this question. (15 pts)**"
   ]
  },
  {
   "cell_type": "code",
   "execution_count": null,
   "id": "b7e135b3",
   "metadata": {},
   "outputs": [],
   "source": []
  },
  {
   "cell_type": "markdown",
   "id": "7f11e841",
   "metadata": {},
   "source": [
    "## Bonus (20 pts)"
   ]
  },
  {
   "cell_type": "markdown",
   "id": "7c804d9f",
   "metadata": {},
   "source": [
    "**1. Use a numpy function, create a evenly spaced number list over the range[-5, 5]. The list should contain 10 numbers.** <br>\n",
    "Output: [-5.        , -3.88888889, -2.77777778, -1.66666667, -0.55555556, 0.55555556,  1.66666667,  2.77777778,  3.88888889,  5.        ]"
   ]
  },
  {
   "cell_type": "code",
   "execution_count": null,
   "id": "33a5764a",
   "metadata": {},
   "outputs": [],
   "source": []
  },
  {
   "cell_type": "markdown",
   "id": "7453ef75",
   "metadata": {},
   "source": [
    "**2. Use a numpy function to create a list full of 1s with length 5.** "
   ]
  },
  {
   "cell_type": "code",
   "execution_count": null,
   "id": "2d080854",
   "metadata": {},
   "outputs": [],
   "source": []
  },
  {
   "cell_type": "markdown",
   "id": "21b2c68e",
   "metadata": {},
   "source": [
    "**3. Use a numpy function to create two 3*2 matricies (named M and N) with randomly generated numbers. Doesn't have to be integers.** "
   ]
  },
  {
   "cell_type": "code",
   "execution_count": null,
   "id": "92f50226",
   "metadata": {},
   "outputs": [],
   "source": []
  },
  {
   "cell_type": "markdown",
   "id": "5ed497e3",
   "metadata": {},
   "source": [
    "**4. Use a numpy function, add N to the right of M to form a 3*4 matrix named K.** "
   ]
  },
  {
   "cell_type": "code",
   "execution_count": null,
   "id": "aa4544b1",
   "metadata": {},
   "outputs": [],
   "source": []
  },
  {
   "cell_type": "markdown",
   "id": "c0d75f10",
   "metadata": {},
   "source": [
    "**5. Use a numpy function, fill the matrix K with zeros. Suppose you do not know the dimension of K.** "
   ]
  },
  {
   "cell_type": "code",
   "execution_count": null,
   "id": "71fda3bd",
   "metadata": {},
   "outputs": [],
   "source": []
  }
 ],
 "metadata": {
  "kernelspec": {
   "display_name": "Python 3",
   "language": "python",
   "name": "python3"
  },
  "language_info": {
   "codemirror_mode": {
    "name": "ipython",
    "version": 3
   },
   "file_extension": ".py",
   "mimetype": "text/x-python",
   "name": "python",
   "nbconvert_exporter": "python",
   "pygments_lexer": "ipython3",
   "version": "3.8.8"
  }
 },
 "nbformat": 4,
 "nbformat_minor": 5
}
